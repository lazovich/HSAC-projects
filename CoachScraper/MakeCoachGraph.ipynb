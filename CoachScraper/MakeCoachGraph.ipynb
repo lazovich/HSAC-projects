{
 "metadata": {
  "name": "",
  "signature": "sha256:e2b541aad782f7586cc7379a367d606b44baa9b32da7f9202f01c22d4b830fb7"
 },
 "nbformat": 3,
 "nbformat_minor": 0,
 "worksheets": [
  {
   "cells": [
    {
     "cell_type": "code",
     "collapsed": false,
     "input": [
      "import networkx as nx\n",
      "import pandas as pd\n",
      "from networkx.algorithms.approximation import *\n",
      "from networkx.algorithms.clique import *\n",
      "from networkx.algorithms.components import *"
     ],
     "language": "python",
     "metadata": {},
     "outputs": [],
     "prompt_number": 1
    },
    {
     "cell_type": "code",
     "collapsed": false,
     "input": [
      "coach_stats = pd.read_csv(\"nfl_coach_career_stats_through2014.csv\")\n",
      "coach_links = pd.read_csv(\"nfl_coaching_tree_through2014.tsv\", sep='\\t')"
     ],
     "language": "python",
     "metadata": {},
     "outputs": [],
     "prompt_number": 24
    },
    {
     "cell_type": "code",
     "collapsed": false,
     "input": [
      "coach_graph = nx.DiGraph()\n",
      "coach_graph_inv = nx.DiGraph()"
     ],
     "language": "python",
     "metadata": {},
     "outputs": [],
     "prompt_number": 25
    },
    {
     "cell_type": "code",
     "collapsed": false,
     "input": [
      "for ind,row in coach_stats.iterrows():\n",
      "    coach_graph.add_node(row['coach_id'], coach_name=row['coach_name'])\n",
      "    coach_graph_inv.add_node(row['coach_id'], coach_name=row['coach_name'])"
     ],
     "language": "python",
     "metadata": {},
     "outputs": [],
     "prompt_number": 26
    },
    {
     "cell_type": "code",
     "collapsed": false,
     "input": [
      "print coach_graph.nodes()\n",
      "print coach_graph.node[0]"
     ],
     "language": "python",
     "metadata": {},
     "outputs": [
      {
       "output_type": "stream",
       "stream": "stdout",
       "text": [
        "[0, 1, 2, 3, 4, 5, 6, 7, 8, 9, 10, 11, 12, 13, 14, 15, 16, 17, 18, 19, 20, 21, 22, 23, 24, 25, 26, 27, 28, 29, 30, 31, 32, 33, 34, 35, 36, 37, 38, 39, 40, 41, 42, 43, 44, 45, 46, 47, 48, 49, 50, 51, 52, 53, 54, 55, 56, 57, 58, 59, 60, 61, 62, 63, 64, 65, 66, 67, 68, 69, 70, 71, 72, 73, 74, 75, 76, 77, 78, 79, 80, 81, 82, 83, 84, 85, 86, 87, 88, 89, 90, 91, 92, 93, 94, 95, 96, 97, 98, 99, 100, 101, 102, 103, 104, 105, 106, 107, 108, 109, 110, 111, 112, 113, 114, 115, 116, 117, 118, 119, 120, 121, 122, 123, 124, 125, 126, 127, 128, 129, 130, 131, 132, 133, 134, 135, 136, 137, 138, 139, 140, 141, 142, 143, 144, 145, 146, 147, 148, 149, 150, 151, 152, 153, 154, 155, 156, 157, 158, 159, 160, 161, 162, 163, 164, 165, 166, 167, 168, 169, 170, 171, 172, 173, 174, 175, 176, 177, 178, 179, 180, 181, 182, 183, 184, 185, 186, 187, 188, 189, 190, 191, 192, 193, 194, 195, 196, 197, 198, 199, 200, 201, 202, 203, 204, 205, 206, 207, 208, 209, 210, 211, 212, 213, 214, 215, 216, 217, 218, 219, 220, 221, 222, 223, 224, 225, 226, 227, 228, 229, 230, 231, 232, 233, 234, 235, 236, 237, 238, 239, 240, 241, 242, 243, 244, 245, 246, 247, 248, 249, 250, 251, 252, 253, 254, 255, 256, 257, 258, 259, 260, 261, 262, 263, 264, 265, 266, 267, 268, 269, 270, 271, 272, 273, 274, 275, 276, 277, 278, 279, 280, 281, 282, 283, 284, 285, 286, 287, 288, 289, 290, 291, 292, 293, 294, 295, 296, 297, 298, 299, 300, 301, 302, 303, 304, 305, 306, 307, 308, 309, 310, 311, 312, 313, 314, 315, 316, 317, 318, 319, 320, 321, 322, 323, 324, 325, 326, 327, 328, 329, 330, 331, 332, 333, 334, 335, 336, 337, 338, 339, 340, 341, 342, 343, 344, 345, 346, 347, 348, 349, 350, 351, 352, 353, 354, 355, 356, 357, 358, 359, 360, 361, 362, 363, 364, 365, 366, 367, 368, 369, 370, 371, 372, 373, 374, 375, 376, 377, 378, 379, 380, 381, 382, 383, 384, 385, 386, 387, 388, 389, 390, 391, 392, 393, 394, 395, 396, 397, 398, 399, 400, 401, 402, 403, 404, 405, 406, 407, 408, 409, 410, 411, 412, 413, 414, 415, 416, 417, 418, 419, 420, 421, 422, 423, 424, 425, 426, 427, 428, 429, 430, 431, 432, 433, 434, 435, 436, 437, 438, 439, 440, 441, 442, 443, 444, 445, 446, 447, 448, 449, 450, 451, 452, 453, 454, 455, 456, 457, 458, 459, 460, 461, 462, 463, 464, 465, 466, 467, 468, 469, 470, 471, 472, 473, 474, 475, 476]\n",
        "{'coach_name': 'Fay Abbott'}\n"
       ]
      }
     ],
     "prompt_number": 27
    },
    {
     "cell_type": "code",
     "collapsed": false,
     "input": [
      "for ind,row in coach_links.iterrows():\n",
      "    coach_graph.add_edge(row['workedfor_id'], row['coach_id'])\n",
      "    coach_graph_inv.add_edge(row['coach_id'], row['workedfor_id'])"
     ],
     "language": "python",
     "metadata": {},
     "outputs": [],
     "prompt_number": 28
    },
    {
     "cell_type": "code",
     "collapsed": false,
     "input": [
      "def sort_special(graph, func):\n",
      "    sort_list = sorted(graph.node.keys(), cmp=lambda a, b: func(graph, a, b))\n",
      "    return sort_list\n",
      "\n",
      "def print_names(graph, indices):\n",
      "    for ind in indices:\n",
      "        print graph.node[ind]['coach_name']\n",
      "        "
     ],
     "language": "python",
     "metadata": {},
     "outputs": [],
     "prompt_number": 29
    },
    {
     "cell_type": "code",
     "collapsed": false,
     "input": [
      "def comp_nodes_out_degree(graph, a,b):\n",
      "    return graph.out_degree(b) - graph.out_degree(a)\n",
      "influential = sort_special(coach_graph, comp_nodes_out_degree)\n",
      "print_names(coach_graph, influential[0:15])\n",
      "uninfluential = sort_special(coach_graph_inv, comp_nodes_out_degree)\n",
      "print \"\"\n",
      "print_names(coach_graph_inv, uninfluential[0:15])"
     ],
     "language": "python",
     "metadata": {},
     "outputs": [
      {
       "output_type": "stream",
       "stream": "stdout",
       "text": [
        "Marty Schottenheimer\n",
        "Bill Parcells\n",
        "Andy Reid\n",
        "Tom Coughlin\n",
        "Bill Cowher\n",
        "John Harbaugh\n",
        "Mike Holmgren\n",
        "George Seifert\n",
        "Norv Turner\n",
        "Ted Marchibroda\n",
        "Dan Reeves\n",
        "Bill Belichick\n",
        "Brian Billick\n",
        "Jon Gruden\n",
        "Dick Vermeil\n",
        "\n",
        "Emmitt Thomas\n",
        "Marc Trestman\n",
        "Al Saunders\n",
        "Joe Vitt\n",
        "Todd Bowles\n",
        "Dick Jauron\n",
        "Dick LeBeau\n",
        "Jim L. Mora\n",
        "Terry Robiskie\n",
        "Bruce Arians\n",
        "Dave Campo\n",
        "Bud Carson\n",
        "Romeo Crennel\n",
        "Gunther Cunningham\n",
        "Mike Martz\n"
       ]
      }
     ],
     "prompt_number": 30
    },
    {
     "cell_type": "code",
     "collapsed": false,
     "input": [
      "def remove_orphans(graph):\n",
      "    for n in graph.nodes():\n",
      "        if graph.degree(n) == 0:\n",
      "            graph.remove_node(n)\n",
      "\n",
      "remove_orphans(coach_graph)\n",
      "remove_orphans(coach_graph_inv)\n",
      "\n",
      "def set_degrees(graph):\n",
      "    for n in graph.nodes():\n",
      "        graph.node[n]['in_degree'] = graph.in_degree(n)\n",
      "        graph.node[n]['out_degree'] = graph.out_degree(n)\n",
      "\n",
      "set_degrees(coach_graph)\n",
      "set_degrees(coach_graph_inv)\n",
      "print coach_graph.node[3]\n",
      "print coach_graph_inv.node[3]"
     ],
     "language": "python",
     "metadata": {},
     "outputs": [
      {
       "output_type": "stream",
       "stream": "stdout",
       "text": [
        "{'in_degree': 4, 'out_degree': 2, 'coach_name': 'Dennis Allen'}\n",
        "{'in_degree': 2, 'out_degree': 4, 'coach_name': 'Dennis Allen'}\n"
       ]
      }
     ],
     "prompt_number": 31
    },
    {
     "cell_type": "code",
     "collapsed": false,
     "input": [
      "from Queue import Queue\n",
      "\n",
      "test_graph = nx.DiGraph()\n",
      "test_graph.add_node(3, coach_graph.node[3])\n",
      "print test_graph.node\n",
      "\n",
      "test_graph2 = nx.DiGraph()\n",
      "def build_ind_tree_bfs(full_graph, new_graph, root):\n",
      "    q = Queue()\n",
      "    \n",
      "    q.put_nowait(root)\n",
      "    new_graph.add_node(root, full_graph.node[root])\n",
      "    while not q.empty():\n",
      "        curr_node = q.get_nowait()\n",
      "        neighbors = full_graph[curr_node]\n",
      "        \n",
      "        for n in neighbors.keys():\n",
      "            if not (n in new_graph.node.keys()):\n",
      "                new_graph.add_node(n, full_graph.node[n])\n",
      "                new_graph.add_edge(curr_node, n)\n",
      "                q.put_nowait(n)\n",
      "\n",
      "build_ind_tree_bfs(coach_graph, test_graph2, 3)\n",
      "print test_graph2.node.keys()\n",
      "print len(test_graph2.node.keys())\n",
      "        "
     ],
     "language": "python",
     "metadata": {},
     "outputs": [
      {
       "output_type": "stream",
       "stream": "stdout",
       "text": [
        "{3: {'in_degree': 4, 'out_degree': 2, 'coach_name': 'Dennis Allen'}}\n",
        "[3, 7, 16, 21, 36, 37, 46, 49, 51, 52, 53, 54, 56, 57, 58, 59, 66, 68, 80, 82, 85, 88, 94, 108, 125, 130, 140, 141, 146, 151, 164, 165, 166, 169, 176, 177, 178, 186, 204, 207, 208, 223, 229, 231, 238, 243, 244, 252, 253, 254, 256, 258, 262, 264, 266, 269, 286, 289, 291, 292, 293, 295, 304, 307, 310, 312, 317, 322, 323, 325, 327, 340, 344, 345, 350, 361, 364, 368, 375, 384, 390, 392, 396, 397, 399, 400, 414, 423, 426, 428, 431, 432, 433, 435, 437, 440, 442, 456, 462, 475, 476]\n",
        "101\n"
       ]
      }
     ],
     "prompt_number": 32
    },
    {
     "cell_type": "code",
     "collapsed": false,
     "input": [
      "coach_links[coach_links['workedfor_id'] == 3]"
     ],
     "language": "python",
     "metadata": {},
     "outputs": [
      {
       "html": [
        "<div style=\"max-height:1000px;max-width:1500px;overflow:auto;\">\n",
        "<table border=\"1\" class=\"dataframe\">\n",
        "  <thead>\n",
        "    <tr style=\"text-align: right;\">\n",
        "      <th></th>\n",
        "      <th>coach_id</th>\n",
        "      <th>coach_name</th>\n",
        "      <th>workedfor_id</th>\n",
        "      <th>workedfor_name</th>\n",
        "      <th>role</th>\n",
        "    </tr>\n",
        "  </thead>\n",
        "  <tbody>\n",
        "    <tr>\n",
        "      <th>436</th>\n",
        "      <td> 368</td>\n",
        "      <td>  Al Saunders</td>\n",
        "      <td> 3</td>\n",
        "      <td> Dennis Allen</td>\n",
        "      <td>                        Senior Offensive Assistant</td>\n",
        "    </tr>\n",
        "    <tr>\n",
        "      <th>482</th>\n",
        "      <td> 400</td>\n",
        "      <td> Tony Sparano</td>\n",
        "      <td> 3</td>\n",
        "      <td> Dennis Allen</td>\n",
        "      <td> Asst. Head Coach/Offensive Line, Asst. Head Co...</td>\n",
        "    </tr>\n",
        "  </tbody>\n",
        "</table>\n",
        "</div>"
       ],
       "metadata": {},
       "output_type": "pyout",
       "prompt_number": 33,
       "text": [
        "     coach_id    coach_name  workedfor_id workedfor_name  \\\n",
        "436       368   Al Saunders             3   Dennis Allen   \n",
        "482       400  Tony Sparano             3   Dennis Allen   \n",
        "\n",
        "                                                  role  \n",
        "436                         Senior Offensive Assistant  \n",
        "482  Asst. Head Coach/Offensive Line, Asst. Head Co...  "
       ]
      }
     ],
     "prompt_number": 33
    },
    {
     "cell_type": "code",
     "collapsed": false,
     "input": [
      "import matplotlib.pyplot as plt\n",
      "nx.draw(test_graph2)\n",
      "plt.show()"
     ],
     "language": "python",
     "metadata": {},
     "outputs": [],
     "prompt_number": 34
    },
    {
     "cell_type": "code",
     "collapsed": false,
     "input": [
      "print nx.is_tree(test_graph2.to_undirected())\n",
      "print nx.is_forest(test_graph2.to_undirected())\n",
      "for c in nx.connected_components(test_graph2.to_undirected()):\n",
      "    print c\n",
      "    \n",
      "for n in test_graph2.node.keys():\n",
      "    if test_graph2.in_degree(n) > 1:\n",
      "        print n\n",
      "    \n",
      "    if 289 in test_graph2[n]:\n",
      "        print n\n",
      "\n",
      "print test_graph2.in_degree(289)"
     ],
     "language": "python",
     "metadata": {},
     "outputs": [
      {
       "output_type": "stream",
       "stream": "stdout",
       "text": [
        "True\n",
        "True\n",
        "[3, 7, 16, 21, 36, 37, 46, 49, 51, 52, 53, 54, 56, 57, 58, 59, 66, 68, 80, 82, 85, 88, 94, 108, 125, 130, 140, 141, 146, 151, 164, 165, 166, 169, 176, 177, 178, 186, 204, 207, 208, 223, 229, 231, 238, 243, 244, 252, 253, 254, 256, 258, 262, 264, 266, 269, 286, 289, 291, 292, 293, 295, 304, 307, 310, 312, 317, 322, 323, 325, 327, 340, 344, 345, 350, 361, 364, 368, 375, 384, 390, 392, 396, 397, 399, 400, 414, 423, 426, 428, 431, 432, 433, 435, 437, 440, 442, 456, 462, 475, 476]\n",
        "368\n",
        "1\n"
       ]
      }
     ],
     "prompt_number": 35
    },
    {
     "cell_type": "code",
     "collapsed": false,
     "input": [
      "from networkx.readwrite import json_graph\n",
      "import json\n",
      "trees = []\n",
      "sizes = []\n",
      "for n in coach_graph.node.keys():\n",
      "    curr_graph = nx.DiGraph()\n",
      "    build_ind_tree_bfs(coach_graph, curr_graph, n)\n",
      "    trees.append(json.dumps(json_graph.tree_data(curr_graph,n)))\n",
      "    #trees.append(json_graph.tree_data(curr_graph,n))\n",
      "    sizes.append(len(curr_graph.node.keys()))"
     ],
     "language": "python",
     "metadata": {},
     "outputs": [],
     "prompt_number": 36
    },
    {
     "cell_type": "code",
     "collapsed": false,
     "input": [
      "ind = 0 \n",
      "for n in coach_graph.node.keys():\n",
      "    coach_graph.node[n]['tree_descendants'] = trees[ind]\n",
      "    coach_graph.node[n]['tree_size'] = sizes[ind]\n",
      "    ind += 1"
     ],
     "language": "python",
     "metadata": {},
     "outputs": [],
     "prompt_number": 37
    },
    {
     "cell_type": "code",
     "collapsed": false,
     "input": [
      "data = json_graph.node_link_data(coach_graph)"
     ],
     "language": "python",
     "metadata": {},
     "outputs": [],
     "prompt_number": 38
    },
    {
     "cell_type": "code",
     "collapsed": false,
     "input": [
      "import json\n",
      "f_out = open('coach_graph_no_orphans.json', 'w')\n",
      "json.dump(data, f_out, indent=4)\n",
      "f_out.close()"
     ],
     "language": "python",
     "metadata": {},
     "outputs": [],
     "prompt_number": 39
    },
    {
     "cell_type": "code",
     "collapsed": false,
     "input": [],
     "language": "python",
     "metadata": {},
     "outputs": []
    }
   ],
   "metadata": {}
  }
 ]
}